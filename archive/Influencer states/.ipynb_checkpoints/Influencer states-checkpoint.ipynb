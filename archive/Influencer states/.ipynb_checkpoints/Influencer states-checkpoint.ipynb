{
 "cells": [
  {
   "cell_type": "markdown",
   "metadata": {},
   "source": [
    "# Assess which states are early adopters / influencers\n",
    "**3 categories \\[pop culture, international affairs, ...\\]**"
   ]
  },
  {
   "cell_type": "markdown",
   "metadata": {},
   "source": [
    "## Determine keywords to focus on"
   ]
  },
  {
   "cell_type": "code",
   "execution_count": 28,
   "metadata": {},
   "outputs": [],
   "source": [
    "keywords = {'pop culture':'star wars', 'international affairs' : 'royal wedding'}"
   ]
  },
  {
   "cell_type": "code",
   "execution_count": 20,
   "metadata": {},
   "outputs": [],
   "source": [
    "# could also do a list of top 10 keywords for each category; need to make sure they hit in the same time period"
   ]
  },
  {
   "cell_type": "markdown",
   "metadata": {},
   "source": [
    "## Scrape google data"
   ]
  },
  {
   "cell_type": "code",
   "execution_count": 42,
   "metadata": {},
   "outputs": [],
   "source": [
    "# Imports\n",
    "\n",
    "import pandas as pd\n",
    "import requests\n",
    "import datetime\n",
    "\n",
    "from bs4 import BeautifulSoup"
   ]
  },
  {
   "cell_type": "code",
   "execution_count": null,
   "metadata": {},
   "outputs": [],
   "source": [
    "# Universal variables\n",
    "\n",
    "geography = 'US' #must match google URL format"
   ]
  },
  {
   "cell_type": "code",
   "execution_count": 33,
   "metadata": {},
   "outputs": [
    {
     "data": {
      "text/plain": [
       "['pop culture', 'international affairs']"
      ]
     },
     "execution_count": 33,
     "metadata": {},
     "output_type": "execute_result"
    }
   ],
   "source": [
    "options = list(keywords.keys())\n",
    "options"
   ]
  },
  {
   "cell_type": "code",
   "execution_count": 36,
   "metadata": {},
   "outputs": [
    {
     "name": "stdout",
     "output_type": "stream",
     "text": [
      "What topic are you interested in? Options = ['pop culture', 'international affairs']international affairs\n"
     ]
    },
    {
     "data": {
      "text/plain": [
       "'https://trends.google.com/trends/explore?geo=US&q=royal%20wedding'"
      ]
     },
     "execution_count": 36,
     "metadata": {},
     "output_type": "execute_result"
    }
   ],
   "source": [
    "# Get URLs\n",
    "\n",
    "topic = input(f'What topic are you interested in? Options = {options}')\n",
    "keyword = str(keywords['international affairs']).replace(' ', '%20')\n",
    "\n",
    "# start_date = input('What start date are you interested in? Format: yyyy-mm-dd ')\n",
    "# end_date = input('What end date are you interested in? Format: yyyy-mm-dd ')\n",
    "# start_date_formatted = start_date.split('-')\n",
    "\n",
    "\n",
    "url = f'https://trends.google.com/trends/explore?geo={geography}&q={keyword}'\n",
    "url"
   ]
  },
  {
   "cell_type": "code",
   "execution_count": 58,
   "metadata": {},
   "outputs": [
    {
     "data": {
      "text/plain": [
       "datetime.date(2008, 12, 26)"
      ]
     },
     "execution_count": 58,
     "metadata": {},
     "output_type": "execute_result"
    }
   ],
   "source": [
    "today = datetime.date(2008, 12, 25)\n",
    "one_day = datetime.timedelta(1)\n",
    "tomorrow = today + one_day\n",
    "tomorrow"
   ]
  },
  {
   "cell_type": "code",
   "execution_count": 63,
   "metadata": {},
   "outputs": [
    {
     "data": {
      "text/plain": [
       "(('2008', '10', '15'), ('2008', '10', '20'))"
      ]
     },
     "execution_count": 63,
     "metadata": {},
     "output_type": "execute_result"
    }
   ],
   "source": [
    "start_date = '2008-10-15'\n",
    "end_date = '2008-10-20'\n",
    "formatted_start_date = tuple(start_date.split('-'))\n",
    "formatted_end_date = tuple(end_date.split('-'))\n",
    "formatted_start_date, formatted_end_date\n"
   ]
  },
  {
   "cell_type": "code",
   "execution_count": null,
   "metadata": {},
   "outputs": [],
   "source": []
  },
  {
   "cell_type": "markdown",
   "metadata": {},
   "source": [
    "## Visualize"
   ]
  }
 ],
 "metadata": {
  "kernelspec": {
   "display_name": "Python [conda env:dsi]",
   "language": "python",
   "name": "conda-env-dsi-py"
  }
 },
 "nbformat": 4,
 "nbformat_minor": 2
}
