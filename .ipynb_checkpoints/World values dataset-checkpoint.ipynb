{
 "cells": [
  {
   "cell_type": "code",
   "execution_count": 86,
   "metadata": {},
   "outputs": [],
   "source": [
    "import pandas as pd\n",
    "import seaborn as sns\n",
    "import matplotlib as plt"
   ]
  },
  {
   "cell_type": "code",
   "execution_count": 57,
   "metadata": {},
   "outputs": [],
   "source": [
    "data = pd.read_csv('./world-values-survey-data/WVS_per_Country.csv')\n",
    "data_dict = pd.read_csv('./world-values-survey-data/Code_book.csv', index_col=\"Variable\")"
   ]
  },
  {
   "cell_type": "code",
   "execution_count": 58,
   "metadata": {},
   "outputs": [
    {
     "data": {
      "text/plain": [
       "Mexico          6\n",
       "South Korea     6\n",
       "Japan           6\n",
       "South Africa    6\n",
       "Argentina       6\n",
       "Name: Country, dtype: int64"
      ]
     },
     "execution_count": 58,
     "metadata": {},
     "output_type": "execute_result"
    }
   ],
   "source": [
    "data['Country'].value_counts().head(5)"
   ]
  },
  {
   "cell_type": "code",
   "execution_count": 59,
   "metadata": {
    "scrolled": true
   },
   "outputs": [
    {
     "data": {
      "text/plain": [
       "(1891, 234)"
      ]
     },
     "execution_count": 59,
     "metadata": {},
     "output_type": "execute_result"
    }
   ],
   "source": [
    "data.T.shape"
   ]
  },
  {
   "cell_type": "code",
   "execution_count": 60,
   "metadata": {
    "scrolled": true
   },
   "outputs": [
    {
     "data": {
      "text/html": [
       "<div>\n",
       "<style scoped>\n",
       "    .dataframe tbody tr th:only-of-type {\n",
       "        vertical-align: middle;\n",
       "    }\n",
       "\n",
       "    .dataframe tbody tr th {\n",
       "        vertical-align: top;\n",
       "    }\n",
       "\n",
       "    .dataframe thead th {\n",
       "        text-align: right;\n",
       "    }\n",
       "</style>\n",
       "<table border=\"1\" class=\"dataframe\">\n",
       "  <thead>\n",
       "    <tr style=\"text-align: right;\">\n",
       "      <th></th>\n",
       "      <th>0</th>\n",
       "      <th>1</th>\n",
       "      <th>2</th>\n",
       "      <th>3</th>\n",
       "      <th>4</th>\n",
       "      <th>5</th>\n",
       "      <th>6</th>\n",
       "      <th>7</th>\n",
       "      <th>8</th>\n",
       "      <th>9</th>\n",
       "      <th>...</th>\n",
       "      <th>224</th>\n",
       "      <th>225</th>\n",
       "      <th>226</th>\n",
       "      <th>227</th>\n",
       "      <th>228</th>\n",
       "      <th>229</th>\n",
       "      <th>230</th>\n",
       "      <th>231</th>\n",
       "      <th>232</th>\n",
       "      <th>233</th>\n",
       "    </tr>\n",
       "  </thead>\n",
       "  <tbody>\n",
       "    <tr>\n",
       "      <th>Country</th>\n",
       "      <td>Albania</td>\n",
       "      <td>Albania</td>\n",
       "      <td>Algeria</td>\n",
       "      <td>Algeria</td>\n",
       "      <td>Andorra</td>\n",
       "      <td>Azerbaijan</td>\n",
       "      <td>Azerbaijan</td>\n",
       "      <td>Argentina</td>\n",
       "      <td>Argentina</td>\n",
       "      <td>Argentina</td>\n",
       "      <td>...</td>\n",
       "      <td>Uruguay</td>\n",
       "      <td>Uruguay</td>\n",
       "      <td>Uruguay</td>\n",
       "      <td>Uzbekistan</td>\n",
       "      <td>Venezuela</td>\n",
       "      <td>Venezuela</td>\n",
       "      <td>Yemen</td>\n",
       "      <td>Serbia and Montenegro</td>\n",
       "      <td>Zambia</td>\n",
       "      <td>Bosnian Federation</td>\n",
       "    </tr>\n",
       "    <tr>\n",
       "      <th>Wave</th>\n",
       "      <td>4</td>\n",
       "      <td>3</td>\n",
       "      <td>4</td>\n",
       "      <td>6</td>\n",
       "      <td>5</td>\n",
       "      <td>6</td>\n",
       "      <td>3</td>\n",
       "      <td>4</td>\n",
       "      <td>2</td>\n",
       "      <td>5</td>\n",
       "      <td>...</td>\n",
       "      <td>3</td>\n",
       "      <td>5</td>\n",
       "      <td>6</td>\n",
       "      <td>6</td>\n",
       "      <td>4</td>\n",
       "      <td>3</td>\n",
       "      <td>6</td>\n",
       "      <td>5</td>\n",
       "      <td>5</td>\n",
       "      <td>3</td>\n",
       "    </tr>\n",
       "    <tr>\n",
       "      <th>S004</th>\n",
       "      <td>NaN</td>\n",
       "      <td>1</td>\n",
       "      <td>NaN</td>\n",
       "      <td>NaN</td>\n",
       "      <td>NaN</td>\n",
       "      <td>NaN</td>\n",
       "      <td>1</td>\n",
       "      <td>NaN</td>\n",
       "      <td>NaN</td>\n",
       "      <td>NaN</td>\n",
       "      <td>...</td>\n",
       "      <td>1</td>\n",
       "      <td>NaN</td>\n",
       "      <td>NaN</td>\n",
       "      <td>NaN</td>\n",
       "      <td>NaN</td>\n",
       "      <td>1</td>\n",
       "      <td>NaN</td>\n",
       "      <td>NaN</td>\n",
       "      <td>NaN</td>\n",
       "      <td>1</td>\n",
       "    </tr>\n",
       "    <tr>\n",
       "      <th>S006</th>\n",
       "      <td>500.5</td>\n",
       "      <td>200500</td>\n",
       "      <td>641.501</td>\n",
       "      <td>600.5</td>\n",
       "      <td>722.209</td>\n",
       "      <td>501.5</td>\n",
       "      <td>191002</td>\n",
       "      <td>687.016</td>\n",
       "      <td>501.5</td>\n",
       "      <td>507.224</td>\n",
       "      <td>...</td>\n",
       "      <td>750.5</td>\n",
       "      <td>501.906</td>\n",
       "      <td>530.712</td>\n",
       "      <td>750.5</td>\n",
       "      <td>603.417</td>\n",
       "      <td>600.5</td>\n",
       "      <td>500.5</td>\n",
       "      <td>611.252</td>\n",
       "      <td>804.745</td>\n",
       "      <td>260691</td>\n",
       "    </tr>\n",
       "    <tr>\n",
       "      <th>S007</th>\n",
       "      <td>112494</td>\n",
       "      <td>78594</td>\n",
       "      <td>113636</td>\n",
       "      <td>331700</td>\n",
       "      <td>171526</td>\n",
       "      <td>272930</td>\n",
       "      <td>82094.5</td>\n",
       "      <td>114916</td>\n",
       "      <td>10808.5</td>\n",
       "      <td>172528</td>\n",
       "      <td>...</td>\n",
       "      <td>74852.5</td>\n",
       "      <td>222472</td>\n",
       "      <td>269428</td>\n",
       "      <td>278748</td>\n",
       "      <td>168422</td>\n",
       "      <td>77494.5</td>\n",
       "      <td>328194</td>\n",
       "      <td>211990</td>\n",
       "      <td>225764</td>\n",
       "      <td>85587.5</td>\n",
       "    </tr>\n",
       "  </tbody>\n",
       "</table>\n",
       "<p>5 rows × 234 columns</p>\n",
       "</div>"
      ],
      "text/plain": [
       "             0        1        2        3        4           5           6    \\\n",
       "Country  Albania  Albania  Algeria  Algeria  Andorra  Azerbaijan  Azerbaijan   \n",
       "Wave           4        3        4        6        5           6           3   \n",
       "S004         NaN        1      NaN      NaN      NaN         NaN           1   \n",
       "S006       500.5   200500  641.501    600.5  722.209       501.5      191002   \n",
       "S007      112494    78594   113636   331700   171526      272930     82094.5   \n",
       "\n",
       "               7          8          9           ...              224  \\\n",
       "Country  Argentina  Argentina  Argentina         ...          Uruguay   \n",
       "Wave             4          2          5         ...                3   \n",
       "S004           NaN        NaN        NaN         ...                1   \n",
       "S006       687.016      501.5    507.224         ...            750.5   \n",
       "S007        114916    10808.5     172528         ...          74852.5   \n",
       "\n",
       "             225      226         227        228        229     230  \\\n",
       "Country  Uruguay  Uruguay  Uzbekistan  Venezuela  Venezuela   Yemen   \n",
       "Wave           5        6           6          4          3       6   \n",
       "S004         NaN      NaN         NaN        NaN          1     NaN   \n",
       "S006     501.906  530.712       750.5    603.417      600.5   500.5   \n",
       "S007      222472   269428      278748     168422    77494.5  328194   \n",
       "\n",
       "                           231      232                 233  \n",
       "Country  Serbia and Montenegro   Zambia  Bosnian Federation  \n",
       "Wave                         5        5                   3  \n",
       "S004                       NaN      NaN                   1  \n",
       "S006                   611.252  804.745              260691  \n",
       "S007                    211990   225764             85587.5  \n",
       "\n",
       "[5 rows x 234 columns]"
      ]
     },
     "execution_count": 60,
     "metadata": {},
     "output_type": "execute_result"
    }
   ],
   "source": [
    "data.T.head(5)"
   ]
  },
  {
   "cell_type": "code",
   "execution_count": 76,
   "metadata": {
    "scrolled": true
   },
   "outputs": [
    {
     "data": {
      "text/html": [
       "<div>\n",
       "<style scoped>\n",
       "    .dataframe tbody tr th:only-of-type {\n",
       "        vertical-align: middle;\n",
       "    }\n",
       "\n",
       "    .dataframe tbody tr th {\n",
       "        vertical-align: top;\n",
       "    }\n",
       "\n",
       "    .dataframe thead th {\n",
       "        text-align: right;\n",
       "    }\n",
       "</style>\n",
       "<table border=\"1\" class=\"dataframe\">\n",
       "  <thead>\n",
       "    <tr style=\"text-align: right;\">\n",
       "      <th></th>\n",
       "      <th>IDX</th>\n",
       "      <th>Label</th>\n",
       "      <th>Type</th>\n",
       "      <th>Length</th>\n",
       "      <th>Categories</th>\n",
       "      <th>Theme</th>\n",
       "    </tr>\n",
       "    <tr>\n",
       "      <th>Variable</th>\n",
       "      <th></th>\n",
       "      <th></th>\n",
       "      <th></th>\n",
       "      <th></th>\n",
       "      <th></th>\n",
       "      <th></th>\n",
       "    </tr>\n",
       "  </thead>\n",
       "  <tbody>\n",
       "    <tr>\n",
       "      <th>A001</th>\n",
       "      <td>001_001</td>\n",
       "      <td>Important in life: Family</td>\n",
       "      <td>NaN</td>\n",
       "      <td>2</td>\n",
       "      <td>1:Very important\\n2:Rather important\\n3:Not ve...</td>\n",
       "      <td>Perceptions of life</td>\n",
       "    </tr>\n",
       "    <tr>\n",
       "      <th>A001_CO</th>\n",
       "      <td>001_001_001</td>\n",
       "      <td>Family important</td>\n",
       "      <td>NaN</td>\n",
       "      <td>2</td>\n",
       "      <td>1:Very important\\n2:Important\\n3:Not at all im...</td>\n",
       "      <td>Perceptions of life</td>\n",
       "    </tr>\n",
       "    <tr>\n",
       "      <th>A002</th>\n",
       "      <td>001_002</td>\n",
       "      <td>Important in life: Friends</td>\n",
       "      <td>NaN</td>\n",
       "      <td>2</td>\n",
       "      <td>1:Very important\\n2:Rather important\\n3:Not ve...</td>\n",
       "      <td>Perceptions of life</td>\n",
       "    </tr>\n",
       "    <tr>\n",
       "      <th>A002_CO</th>\n",
       "      <td>001_002_001</td>\n",
       "      <td>Friends important</td>\n",
       "      <td>NaN</td>\n",
       "      <td>2</td>\n",
       "      <td>1:Very important\\n2:Important\\n3:Not at all im...</td>\n",
       "      <td>Perceptions of life</td>\n",
       "    </tr>\n",
       "    <tr>\n",
       "      <th>A003</th>\n",
       "      <td>001_003</td>\n",
       "      <td>Important in life: Leisure time</td>\n",
       "      <td>NaN</td>\n",
       "      <td>2</td>\n",
       "      <td>-5:Missing; Unknown\\n-4:Not asked in survey\\n-...</td>\n",
       "      <td>Perceptions of life</td>\n",
       "    </tr>\n",
       "  </tbody>\n",
       "</table>\n",
       "</div>"
      ],
      "text/plain": [
       "                  IDX                            Label Type  Length  \\\n",
       "Variable                                                              \n",
       "A001          001_001        Important in life: Family  NaN       2   \n",
       "A001_CO   001_001_001                 Family important  NaN       2   \n",
       "A002          001_002       Important in life: Friends  NaN       2   \n",
       "A002_CO   001_002_001                Friends important  NaN       2   \n",
       "A003          001_003  Important in life: Leisure time  NaN       2   \n",
       "\n",
       "                                                 Categories  \\\n",
       "Variable                                                      \n",
       "A001      1:Very important\\n2:Rather important\\n3:Not ve...   \n",
       "A001_CO   1:Very important\\n2:Important\\n3:Not at all im...   \n",
       "A002      1:Very important\\n2:Rather important\\n3:Not ve...   \n",
       "A002_CO   1:Very important\\n2:Important\\n3:Not at all im...   \n",
       "A003      -5:Missing; Unknown\\n-4:Not asked in survey\\n-...   \n",
       "\n",
       "                        Theme  \n",
       "Variable                       \n",
       "A001      Perceptions of life  \n",
       "A001_CO   Perceptions of life  \n",
       "A002      Perceptions of life  \n",
       "A002_CO   Perceptions of life  \n",
       "A003      Perceptions of life  "
      ]
     },
     "execution_count": 76,
     "metadata": {},
     "output_type": "execute_result"
    }
   ],
   "source": [
    "data_dict.head()"
   ]
  },
  {
   "cell_type": "code",
   "execution_count": 38,
   "metadata": {
    "scrolled": true
   },
   "outputs": [
    {
     "data": {
      "text/plain": [
       "(1420, 7)"
      ]
     },
     "execution_count": 38,
     "metadata": {},
     "output_type": "execute_result"
    }
   ],
   "source": [
    "data_dict.shape"
   ]
  },
  {
   "cell_type": "code",
   "execution_count": 75,
   "metadata": {},
   "outputs": [],
   "source": [
    "full_df = pd.merge(data_dict, data.T,  how = 'right', left_index=True, right_index=True)"
   ]
  },
  {
   "cell_type": "code",
   "execution_count": 83,
   "metadata": {},
   "outputs": [
    {
     "data": {
      "text/html": [
       "<div>\n",
       "<style scoped>\n",
       "    .dataframe tbody tr th:only-of-type {\n",
       "        vertical-align: middle;\n",
       "    }\n",
       "\n",
       "    .dataframe tbody tr th {\n",
       "        vertical-align: top;\n",
       "    }\n",
       "\n",
       "    .dataframe thead th {\n",
       "        text-align: right;\n",
       "    }\n",
       "</style>\n",
       "<table border=\"1\" class=\"dataframe\">\n",
       "  <thead>\n",
       "    <tr style=\"text-align: right;\">\n",
       "      <th></th>\n",
       "      <th>Theme</th>\n",
       "    </tr>\n",
       "  </thead>\n",
       "  <tbody>\n",
       "    <tr>\n",
       "      <th>Politics and Society</th>\n",
       "      <td>330</td>\n",
       "    </tr>\n",
       "    <tr>\n",
       "      <th>Perceptions of life</th>\n",
       "      <td>253</td>\n",
       "    </tr>\n",
       "    <tr>\n",
       "      <th>Religion and Morale</th>\n",
       "      <td>210</td>\n",
       "    </tr>\n",
       "    <tr>\n",
       "      <th>National Identity</th>\n",
       "      <td>143</td>\n",
       "    </tr>\n",
       "    <tr>\n",
       "      <th>Socio-demographics</th>\n",
       "      <td>123</td>\n",
       "    </tr>\n",
       "    <tr>\n",
       "      <th>Family</th>\n",
       "      <td>91</td>\n",
       "    </tr>\n",
       "    <tr>\n",
       "      <th>Structure of the file</th>\n",
       "      <td>83</td>\n",
       "    </tr>\n",
       "    <tr>\n",
       "      <th>Work</th>\n",
       "      <td>69</td>\n",
       "    </tr>\n",
       "    <tr>\n",
       "      <th>Sylatech module</th>\n",
       "      <td>60</td>\n",
       "    </tr>\n",
       "    <tr>\n",
       "      <th>Environment</th>\n",
       "      <td>31</td>\n",
       "    </tr>\n",
       "    <tr>\n",
       "      <th>Security</th>\n",
       "      <td>22</td>\n",
       "    </tr>\n",
       "    <tr>\n",
       "      <th>Special Indexes</th>\n",
       "      <td>3</td>\n",
       "    </tr>\n",
       "    <tr>\n",
       "      <th>Science</th>\n",
       "      <td>2</td>\n",
       "    </tr>\n",
       "  </tbody>\n",
       "</table>\n",
       "</div>"
      ],
      "text/plain": [
       "                       Theme\n",
       "Politics and Society     330\n",
       "Perceptions of life      253\n",
       "Religion and Morale      210\n",
       "National Identity        143\n",
       "Socio-demographics       123\n",
       "Family                    91\n",
       "Structure of the file     83\n",
       "Work                      69\n",
       "Sylatech module           60\n",
       "Environment               31\n",
       "Security                  22\n",
       "Special Indexes            3\n",
       "Science                    2"
      ]
     },
     "execution_count": 83,
     "metadata": {},
     "output_type": "execute_result"
    }
   ],
   "source": [
    "theme_counts = pd.DataFrame(data_dict[\"Theme\"].value_counts())\n",
    "theme_counts"
   ]
  },
  {
   "cell_type": "code",
   "execution_count": 88,
   "metadata": {},
   "outputs": [
    {
     "name": "stderr",
     "output_type": "stream",
     "text": [
      "/Users/superviv/anaconda3/envs/dsi/lib/python3.6/site-packages/seaborn/categorical.py:1428: FutureWarning: remove_na is deprecated and is a private function. Do not use.\n",
      "  stat_data = remove_na(group_data)\n"
     ]
    },
    {
     "data": {
      "image/png": "[encoded data removed]",
      "text/plain": [
       "<Figure size 432x288 with 1 Axes>"
      ]
     },
     "metadata": {},
     "output_type": "display_data"
    }
   ],
   "source": [
    "sns.barplot(theme_counts.index, theme_counts[\"Theme\"]);"
   ]
  },
  {
   "cell_type": "code",
   "execution_count": null,
   "metadata": {},
   "outputs": [],
   "source": []
  }
 ],
 "metadata": {
  "kernelspec": {
   "display_name": "Python [conda env:dsi]",
   "language": "python",
   "name": "conda-env-dsi-py"
  },
  "language_info": {
   "codemirror_mode": {
    "name": "ipython",
    "version": 3
   },
   "file_extension": ".py",
   "mimetype": "text/x-python",
   "name": "python",
   "nbconvert_exporter": "python",
   "pygments_lexer": "ipython3",
   "version": "3.6.5"
  }
 },
 "nbformat": 4,
 "nbformat_minor": 2
}
