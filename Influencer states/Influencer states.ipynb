{
 "cells": [
  {
   "cell_type": "markdown",
   "metadata": {},
   "source": [
    "# Assess which states are early adopters / influencers\n",
    "**3 categories \\[pop culture, international affairs, ...\\]**"
   ]
  },
  {
   "cell_type": "markdown",
   "metadata": {},
   "source": [
    "## Scrape google data"
   ]
  },
  {
   "cell_type": "code",
   "execution_count": 1,
   "metadata": {},
   "outputs": [],
   "source": [
    "# Imports\n",
    "\n",
    "import pandas as pd\n",
    "import requests\n",
    "import datetime\n",
    "\n",
    "from bs4 import BeautifulSoup"
   ]
  },
  {
   "cell_type": "code",
   "execution_count": 2,
   "metadata": {},
   "outputs": [],
   "source": [
    "# Universal variables\n",
    "\n",
    "geography = 'US' #must match google URL format"
   ]
  },
  {
   "cell_type": "code",
   "execution_count": 4,
   "metadata": {
    "scrolled": true
   },
   "outputs": [],
   "source": [
    "# Get URLs\n",
    "\n",
    "# topic = input(f'What topic are you interested in?')\n",
    "# keyword = str(topic).replace(' ', '%20')\n",
    "\n",
    "# start_date = input('What start date are you interested in? Format: yyyy-mm-dd ')\n",
    "# end_date = input('What end date are you interested in? Format: yyyy-mm-dd ')\n",
    "# formatted_start_date = tuple(start_date.split('-'))\n",
    "# formatted_end_date = tuple(end_date.split('-'))\n",
    "\n",
    "\n",
    "# url = f'https://trends.google.com/trends/explore?date={start_date}%20{end_date}&geo={geography}&q={keyword}'\n",
    "# url"
   ]
  },
  {
   "cell_type": "code",
   "execution_count": 5,
   "metadata": {},
   "outputs": [],
   "source": [
    "url = 'https://trends.google.com/trends/explore?date=2018-04-23%202018-05-23&geo=US&q=star%20wars'"
   ]
  },
  {
   "cell_type": "code",
   "execution_count": 9,
   "metadata": {},
   "outputs": [],
   "source": [
    "# Scrape data\n",
    "\n",
    "res = requests.get(url, headers = {'User-agent': 'Chrome/5.0'})\n",
    "soup = BeautifulSoup(res.content, 'lxml')\n",
    "soup.find('div', {'class': 'label-text'})"
   ]
  },
  {
   "cell_type": "code",
   "execution_count": 10,
   "metadata": {},
   "outputs": [
    {
     "data": {
      "text/plain": [
       "429"
      ]
     },
     "execution_count": 10,
     "metadata": {},
     "output_type": "execute_result"
    }
   ],
   "source": [
    "res.status_code"
   ]
  },
  {
   "cell_type": "code",
   "execution_count": null,
   "metadata": {},
   "outputs": [],
   "source": []
  },
  {
   "cell_type": "code",
   "execution_count": null,
   "metadata": {},
   "outputs": [],
   "source": [
    "# cycling on a day-by-day basis"
   ]
  },
  {
   "cell_type": "code",
   "execution_count": 58,
   "metadata": {},
   "outputs": [
    {
     "data": {
      "text/plain": [
       "datetime.date(2008, 12, 26)"
      ]
     },
     "execution_count": 58,
     "metadata": {},
     "output_type": "execute_result"
    }
   ],
   "source": [
    "today = datetime.date(2008, 12, 25)\n",
    "one_day = datetime.timedelta(1)\n",
    "tomorrow = today + one_day\n",
    "tomorrow"
   ]
  },
  {
   "cell_type": "code",
   "execution_count": 69,
   "metadata": {},
   "outputs": [
    {
     "ename": "SyntaxError",
     "evalue": "invalid syntax (<ipython-input-69-64f316cd8f02>, line 4)",
     "output_type": "error",
     "traceback": [
      "\u001b[0;36m  File \u001b[0;32m\"<ipython-input-69-64f316cd8f02>\"\u001b[0;36m, line \u001b[0;32m4\u001b[0m\n\u001b[0;31m    if datetime.date(working date) < datetime.date(formatted_end_date):\u001b[0m\n\u001b[0m                                ^\u001b[0m\n\u001b[0;31mSyntaxError\u001b[0m\u001b[0;31m:\u001b[0m invalid syntax\n"
     ]
    }
   ],
   "source": [
    "url_list = []\n",
    "working_date = formatted_start_date\n",
    "\n",
    "if datetime.date(working date) < datetime.date(formatted_end_date):\n",
    "    working_date += 1"
   ]
  },
  {
   "cell_type": "markdown",
   "metadata": {},
   "source": [
    "## Visualize"
   ]
  },
  {
   "cell_type": "markdown",
   "metadata": {},
   "source": [
    "## Archived"
   ]
  },
  {
   "cell_type": "markdown",
   "metadata": {},
   "source": [
    "### Average over multiple topics"
   ]
  },
  {
   "cell_type": "code",
   "execution_count": 28,
   "metadata": {},
   "outputs": [],
   "source": [
    "# keywords = {'pop culture':'star wars', 'international affairs' : 'royal wedding'}"
   ]
  },
  {
   "cell_type": "code",
   "execution_count": 20,
   "metadata": {},
   "outputs": [],
   "source": [
    "# could also do a list of top 10 keywords for each category; need to make sure they hit in the same time period"
   ]
  },
  {
   "cell_type": "code",
   "execution_count": 33,
   "metadata": {},
   "outputs": [
    {
     "data": {
      "text/plain": [
       "['pop culture', 'international affairs']"
      ]
     },
     "execution_count": 33,
     "metadata": {},
     "output_type": "execute_result"
    }
   ],
   "source": [
    "# options = list(keywords.keys())\n",
    "# options"
   ]
  }
 ],
 "metadata": {
  "kernelspec": {
   "display_name": "Python [conda env:dsi]",
   "language": "python",
   "name": "conda-env-dsi-py"
  },
  "language_info": {
   "codemirror_mode": {
    "name": "ipython",
    "version": 3
   },
   "file_extension": ".py",
   "mimetype": "text/x-python",
   "name": "python",
   "nbconvert_exporter": "python",
   "pygments_lexer": "ipython3",
   "version": "3.6.5"
  }
 },
 "nbformat": 4,
 "nbformat_minor": 2
}
